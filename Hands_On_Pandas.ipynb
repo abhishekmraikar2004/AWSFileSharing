{
  "nbformat": 4,
  "nbformat_minor": 0,
  "metadata": {
    "colab": {
      "provenance": [],
      "toc_visible": true,
      "include_colab_link": true
    },
    "kernelspec": {
      "name": "python3",
      "display_name": "Python 3"
    }
  },
  "cells": [
    {
      "cell_type": "markdown",
      "metadata": {
        "id": "view-in-github",
        "colab_type": "text"
      },
      "source": [
        "<a href=\"https://colab.research.google.com/github/abhishekmraikar2004/AWSFileSharing/blob/main/Hands_On_Pandas.ipynb\" target=\"_parent\"><img src=\"https://colab.research.google.com/assets/colab-badge.svg\" alt=\"Open In Colab\"/></a>"
      ]
    },
    {
      "cell_type": "markdown",
      "metadata": {
        "id": "s7C5QJ5NgBOO"
      },
      "source": [
        "# Imports"
      ]
    },
    {
      "cell_type": "code",
      "metadata": {
        "id": "lSXfjCwO1zqv"
      },
      "source": [
        "import pandas as pd"
      ],
      "execution_count": null,
      "outputs": []
    },
    {
      "cell_type": "markdown",
      "metadata": {
        "id": "pWK3_urxbKC_"
      },
      "source": [
        "# Data Collection"
      ]
    },
    {
      "cell_type": "markdown",
      "metadata": {
        "id": "xhCQhICpnDAc"
      },
      "source": [
        "### Downloading MNIST Train and Test Datasets  "
      ]
    },
    {
      "cell_type": "code",
      "metadata": {
        "id": "XuSHXvRmvah-",
        "colab": {
          "base_uri": "https://localhost:8080/"
        },
        "outputId": "94ca9df1-7eda-460a-b184-e6f31904b7f5"
      },
      "source": [
        "# Downloading the datasets using wget\n",
        "!wget https://nkb-backend-otg-media-static.s3.ap-south-1.amazonaws.com/otg_prod/media/Tech_4.0/AI_ML/Datasets/kaggle_mnist/train.csv\n",
        "!wget https://nkb-backend-otg-media-static.s3.ap-south-1.amazonaws.com/otg_prod/media/Tech_4.0/AI_ML/Datasets/kaggle_mnist/test.csv"
      ],
      "execution_count": null,
      "outputs": [
        {
          "output_type": "stream",
          "text": [
            "--2021-04-08 10:46:41--  https://nkb-backend-otg-media-static.s3.ap-south-1.amazonaws.com/otg_prod/media/Tech_4.0/AI_ML/Datasets/kaggle_mnist/train.csv\n",
            "Resolving nkb-backend-otg-media-static.s3.ap-south-1.amazonaws.com (nkb-backend-otg-media-static.s3.ap-south-1.amazonaws.com)... 52.219.64.38\n",
            "Connecting to nkb-backend-otg-media-static.s3.ap-south-1.amazonaws.com (nkb-backend-otg-media-static.s3.ap-south-1.amazonaws.com)|52.219.64.38|:443... connected.\n",
            "HTTP request sent, awaiting response... 200 OK\n",
            "Length: 76775041 (73M) [text/csv]\n",
            "Saving to: ‘train.csv’\n",
            "\n",
            "train.csv           100%[===================>]  73.22M  11.8MB/s    in 7.9s    \n",
            "\n",
            "2021-04-08 10:46:50 (9.25 MB/s) - ‘train.csv’ saved [76775041/76775041]\n",
            "\n",
            "--2021-04-08 10:46:50--  https://nkb-backend-otg-media-static.s3.ap-south-1.amazonaws.com/otg_prod/media/Tech_4.0/AI_ML/Datasets/kaggle_mnist/test.csv\n",
            "Resolving nkb-backend-otg-media-static.s3.ap-south-1.amazonaws.com (nkb-backend-otg-media-static.s3.ap-south-1.amazonaws.com)... 52.219.66.87\n",
            "Connecting to nkb-backend-otg-media-static.s3.ap-south-1.amazonaws.com (nkb-backend-otg-media-static.s3.ap-south-1.amazonaws.com)|52.219.66.87|:443... connected.\n",
            "HTTP request sent, awaiting response... 200 OK\n",
            "Length: 51118296 (49M) [text/csv]\n",
            "Saving to: ‘test.csv’\n",
            "\n",
            "test.csv            100%[===================>]  48.75M  10.2MB/s    in 5.7s    \n",
            "\n",
            "2021-04-08 10:46:57 (8.58 MB/s) - ‘test.csv’ saved [51118296/51118296]\n",
            "\n"
          ],
          "name": "stdout"
        }
      ]
    },
    {
      "cell_type": "markdown",
      "metadata": {
        "id": "CRz0lRQjbNBt"
      },
      "source": [
        "# Understanding the Data"
      ]
    },
    {
      "cell_type": "markdown",
      "metadata": {
        "id": "YZ4Crondpgk8"
      },
      "source": [
        "## Loading Data\n",
        "\n",
        "Loading the data from a csv file into python"
      ]
    },
    {
      "cell_type": "code",
      "metadata": {
        "id": "8nhd8GETpDL4"
      },
      "source": [
        "train_df = pd.read_csv(\"train.csv\")\n",
        "test_df = pd.read_csv(\"test.csv\")"
      ],
      "execution_count": null,
      "outputs": []
    },
    {
      "cell_type": "code",
      "metadata": {
        "id": "q9qhRRBmoCSk",
        "colab": {
          "base_uri": "https://localhost:8080/",
          "height": 444
        },
        "outputId": "d7383baf-4fd0-47b5-9117-1b0129fe7c8e"
      },
      "source": [
        "train_df"
      ],
      "execution_count": null,
      "outputs": [
        {
          "output_type": "execute_result",
          "data": {
            "text/html": [
              "<div>\n",
              "<style scoped>\n",
              "    .dataframe tbody tr th:only-of-type {\n",
              "        vertical-align: middle;\n",
              "    }\n",
              "\n",
              "    .dataframe tbody tr th {\n",
              "        vertical-align: top;\n",
              "    }\n",
              "\n",
              "    .dataframe thead th {\n",
              "        text-align: right;\n",
              "    }\n",
              "</style>\n",
              "<table border=\"1\" class=\"dataframe\">\n",
              "  <thead>\n",
              "    <tr style=\"text-align: right;\">\n",
              "      <th></th>\n",
              "      <th>label</th>\n",
              "      <th>pixel0</th>\n",
              "      <th>pixel1</th>\n",
              "      <th>pixel2</th>\n",
              "      <th>pixel3</th>\n",
              "      <th>pixel4</th>\n",
              "      <th>pixel5</th>\n",
              "      <th>pixel6</th>\n",
              "      <th>pixel7</th>\n",
              "      <th>pixel8</th>\n",
              "      <th>pixel9</th>\n",
              "      <th>pixel10</th>\n",
              "      <th>pixel11</th>\n",
              "      <th>pixel12</th>\n",
              "      <th>pixel13</th>\n",
              "      <th>pixel14</th>\n",
              "      <th>pixel15</th>\n",
              "      <th>pixel16</th>\n",
              "      <th>pixel17</th>\n",
              "      <th>pixel18</th>\n",
              "      <th>pixel19</th>\n",
              "      <th>pixel20</th>\n",
              "      <th>pixel21</th>\n",
              "      <th>pixel22</th>\n",
              "      <th>pixel23</th>\n",
              "      <th>pixel24</th>\n",
              "      <th>pixel25</th>\n",
              "      <th>pixel26</th>\n",
              "      <th>pixel27</th>\n",
              "      <th>pixel28</th>\n",
              "      <th>pixel29</th>\n",
              "      <th>pixel30</th>\n",
              "      <th>pixel31</th>\n",
              "      <th>pixel32</th>\n",
              "      <th>pixel33</th>\n",
              "      <th>pixel34</th>\n",
              "      <th>pixel35</th>\n",
              "      <th>pixel36</th>\n",
              "      <th>pixel37</th>\n",
              "      <th>pixel38</th>\n",
              "      <th>...</th>\n",
              "      <th>pixel744</th>\n",
              "      <th>pixel745</th>\n",
              "      <th>pixel746</th>\n",
              "      <th>pixel747</th>\n",
              "      <th>pixel748</th>\n",
              "      <th>pixel749</th>\n",
              "      <th>pixel750</th>\n",
              "      <th>pixel751</th>\n",
              "      <th>pixel752</th>\n",
              "      <th>pixel753</th>\n",
              "      <th>pixel754</th>\n",
              "      <th>pixel755</th>\n",
              "      <th>pixel756</th>\n",
              "      <th>pixel757</th>\n",
              "      <th>pixel758</th>\n",
              "      <th>pixel759</th>\n",
              "      <th>pixel760</th>\n",
              "      <th>pixel761</th>\n",
              "      <th>pixel762</th>\n",
              "      <th>pixel763</th>\n",
              "      <th>pixel764</th>\n",
              "      <th>pixel765</th>\n",
              "      <th>pixel766</th>\n",
              "      <th>pixel767</th>\n",
              "      <th>pixel768</th>\n",
              "      <th>pixel769</th>\n",
              "      <th>pixel770</th>\n",
              "      <th>pixel771</th>\n",
              "      <th>pixel772</th>\n",
              "      <th>pixel773</th>\n",
              "      <th>pixel774</th>\n",
              "      <th>pixel775</th>\n",
              "      <th>pixel776</th>\n",
              "      <th>pixel777</th>\n",
              "      <th>pixel778</th>\n",
              "      <th>pixel779</th>\n",
              "      <th>pixel780</th>\n",
              "      <th>pixel781</th>\n",
              "      <th>pixel782</th>\n",
              "      <th>pixel783</th>\n",
              "    </tr>\n",
              "  </thead>\n",
              "  <tbody>\n",
              "    <tr>\n",
              "      <th>0</th>\n",
              "      <td>1</td>\n",
              "      <td>0</td>\n",
              "      <td>0</td>\n",
              "      <td>0</td>\n",
              "      <td>0</td>\n",
              "      <td>0</td>\n",
              "      <td>0</td>\n",
              "      <td>0</td>\n",
              "      <td>0</td>\n",
              "      <td>0</td>\n",
              "      <td>0</td>\n",
              "      <td>0</td>\n",
              "      <td>0</td>\n",
              "      <td>0</td>\n",
              "      <td>0</td>\n",
              "      <td>0</td>\n",
              "      <td>0</td>\n",
              "      <td>0</td>\n",
              "      <td>0</td>\n",
              "      <td>0</td>\n",
              "      <td>0</td>\n",
              "      <td>0</td>\n",
              "      <td>0</td>\n",
              "      <td>0</td>\n",
              "      <td>0</td>\n",
              "      <td>0</td>\n",
              "      <td>0</td>\n",
              "      <td>0</td>\n",
              "      <td>0</td>\n",
              "      <td>0</td>\n",
              "      <td>0</td>\n",
              "      <td>0</td>\n",
              "      <td>0</td>\n",
              "      <td>0</td>\n",
              "      <td>0</td>\n",
              "      <td>0</td>\n",
              "      <td>0</td>\n",
              "      <td>0</td>\n",
              "      <td>0</td>\n",
              "      <td>0</td>\n",
              "      <td>...</td>\n",
              "      <td>0</td>\n",
              "      <td>0</td>\n",
              "      <td>0</td>\n",
              "      <td>0</td>\n",
              "      <td>0</td>\n",
              "      <td>0</td>\n",
              "      <td>0</td>\n",
              "      <td>0</td>\n",
              "      <td>0</td>\n",
              "      <td>0</td>\n",
              "      <td>0</td>\n",
              "      <td>0</td>\n",
              "      <td>0</td>\n",
              "      <td>0</td>\n",
              "      <td>0</td>\n",
              "      <td>0</td>\n",
              "      <td>0</td>\n",
              "      <td>0</td>\n",
              "      <td>0</td>\n",
              "      <td>0</td>\n",
              "      <td>0</td>\n",
              "      <td>0</td>\n",
              "      <td>0</td>\n",
              "      <td>0</td>\n",
              "      <td>0</td>\n",
              "      <td>0</td>\n",
              "      <td>0</td>\n",
              "      <td>0</td>\n",
              "      <td>0</td>\n",
              "      <td>0</td>\n",
              "      <td>0</td>\n",
              "      <td>0</td>\n",
              "      <td>0</td>\n",
              "      <td>0</td>\n",
              "      <td>0</td>\n",
              "      <td>0</td>\n",
              "      <td>0</td>\n",
              "      <td>0</td>\n",
              "      <td>0</td>\n",
              "      <td>0</td>\n",
              "    </tr>\n",
              "    <tr>\n",
              "      <th>1</th>\n",
              "      <td>0</td>\n",
              "      <td>0</td>\n",
              "      <td>0</td>\n",
              "      <td>0</td>\n",
              "      <td>0</td>\n",
              "      <td>0</td>\n",
              "      <td>0</td>\n",
              "      <td>0</td>\n",
              "      <td>0</td>\n",
              "      <td>0</td>\n",
              "      <td>0</td>\n",
              "      <td>0</td>\n",
              "      <td>0</td>\n",
              "      <td>0</td>\n",
              "      <td>0</td>\n",
              "      <td>0</td>\n",
              "      <td>0</td>\n",
              "      <td>0</td>\n",
              "      <td>0</td>\n",
              "      <td>0</td>\n",
              "      <td>0</td>\n",
              "      <td>0</td>\n",
              "      <td>0</td>\n",
              "      <td>0</td>\n",
              "      <td>0</td>\n",
              "      <td>0</td>\n",
              "      <td>0</td>\n",
              "      <td>0</td>\n",
              "      <td>0</td>\n",
              "      <td>0</td>\n",
              "      <td>0</td>\n",
              "      <td>0</td>\n",
              "      <td>0</td>\n",
              "      <td>0</td>\n",
              "      <td>0</td>\n",
              "      <td>0</td>\n",
              "      <td>0</td>\n",
              "      <td>0</td>\n",
              "      <td>0</td>\n",
              "      <td>0</td>\n",
              "      <td>...</td>\n",
              "      <td>0</td>\n",
              "      <td>0</td>\n",
              "      <td>0</td>\n",
              "      <td>0</td>\n",
              "      <td>0</td>\n",
              "      <td>0</td>\n",
              "      <td>0</td>\n",
              "      <td>0</td>\n",
              "      <td>0</td>\n",
              "      <td>0</td>\n",
              "      <td>0</td>\n",
              "      <td>0</td>\n",
              "      <td>0</td>\n",
              "      <td>0</td>\n",
              "      <td>0</td>\n",
              "      <td>0</td>\n",
              "      <td>0</td>\n",
              "      <td>0</td>\n",
              "      <td>0</td>\n",
              "      <td>0</td>\n",
              "      <td>0</td>\n",
              "      <td>0</td>\n",
              "      <td>0</td>\n",
              "      <td>0</td>\n",
              "      <td>0</td>\n",
              "      <td>0</td>\n",
              "      <td>0</td>\n",
              "      <td>0</td>\n",
              "      <td>0</td>\n",
              "      <td>0</td>\n",
              "      <td>0</td>\n",
              "      <td>0</td>\n",
              "      <td>0</td>\n",
              "      <td>0</td>\n",
              "      <td>0</td>\n",
              "      <td>0</td>\n",
              "      <td>0</td>\n",
              "      <td>0</td>\n",
              "      <td>0</td>\n",
              "      <td>0</td>\n",
              "    </tr>\n",
              "    <tr>\n",
              "      <th>2</th>\n",
              "      <td>1</td>\n",
              "      <td>0</td>\n",
              "      <td>0</td>\n",
              "      <td>0</td>\n",
              "      <td>0</td>\n",
              "      <td>0</td>\n",
              "      <td>0</td>\n",
              "      <td>0</td>\n",
              "      <td>0</td>\n",
              "      <td>0</td>\n",
              "      <td>0</td>\n",
              "      <td>0</td>\n",
              "      <td>0</td>\n",
              "      <td>0</td>\n",
              "      <td>0</td>\n",
              "      <td>0</td>\n",
              "      <td>0</td>\n",
              "      <td>0</td>\n",
              "      <td>0</td>\n",
              "      <td>0</td>\n",
              "      <td>0</td>\n",
              "      <td>0</td>\n",
              "      <td>0</td>\n",
              "      <td>0</td>\n",
              "      <td>0</td>\n",
              "      <td>0</td>\n",
              "      <td>0</td>\n",
              "      <td>0</td>\n",
              "      <td>0</td>\n",
              "      <td>0</td>\n",
              "      <td>0</td>\n",
              "      <td>0</td>\n",
              "      <td>0</td>\n",
              "      <td>0</td>\n",
              "      <td>0</td>\n",
              "      <td>0</td>\n",
              "      <td>0</td>\n",
              "      <td>0</td>\n",
              "      <td>0</td>\n",
              "      <td>0</td>\n",
              "      <td>...</td>\n",
              "      <td>0</td>\n",
              "      <td>0</td>\n",
              "      <td>0</td>\n",
              "      <td>0</td>\n",
              "      <td>0</td>\n",
              "      <td>0</td>\n",
              "      <td>0</td>\n",
              "      <td>0</td>\n",
              "      <td>0</td>\n",
              "      <td>0</td>\n",
              "      <td>0</td>\n",
              "      <td>0</td>\n",
              "      <td>0</td>\n",
              "      <td>0</td>\n",
              "      <td>0</td>\n",
              "      <td>0</td>\n",
              "      <td>0</td>\n",
              "      <td>0</td>\n",
              "      <td>0</td>\n",
              "      <td>0</td>\n",
              "      <td>0</td>\n",
              "      <td>0</td>\n",
              "      <td>0</td>\n",
              "      <td>0</td>\n",
              "      <td>0</td>\n",
              "      <td>0</td>\n",
              "      <td>0</td>\n",
              "      <td>0</td>\n",
              "      <td>0</td>\n",
              "      <td>0</td>\n",
              "      <td>0</td>\n",
              "      <td>0</td>\n",
              "      <td>0</td>\n",
              "      <td>0</td>\n",
              "      <td>0</td>\n",
              "      <td>0</td>\n",
              "      <td>0</td>\n",
              "      <td>0</td>\n",
              "      <td>0</td>\n",
              "      <td>0</td>\n",
              "    </tr>\n",
              "    <tr>\n",
              "      <th>3</th>\n",
              "      <td>4</td>\n",
              "      <td>0</td>\n",
              "      <td>0</td>\n",
              "      <td>0</td>\n",
              "      <td>0</td>\n",
              "      <td>0</td>\n",
              "      <td>0</td>\n",
              "      <td>0</td>\n",
              "      <td>0</td>\n",
              "      <td>0</td>\n",
              "      <td>0</td>\n",
              "      <td>0</td>\n",
              "      <td>0</td>\n",
              "      <td>0</td>\n",
              "      <td>0</td>\n",
              "      <td>0</td>\n",
              "      <td>0</td>\n",
              "      <td>0</td>\n",
              "      <td>0</td>\n",
              "      <td>0</td>\n",
              "      <td>0</td>\n",
              "      <td>0</td>\n",
              "      <td>0</td>\n",
              "      <td>0</td>\n",
              "      <td>0</td>\n",
              "      <td>0</td>\n",
              "      <td>0</td>\n",
              "      <td>0</td>\n",
              "      <td>0</td>\n",
              "      <td>0</td>\n",
              "      <td>0</td>\n",
              "      <td>0</td>\n",
              "      <td>0</td>\n",
              "      <td>0</td>\n",
              "      <td>0</td>\n",
              "      <td>0</td>\n",
              "      <td>0</td>\n",
              "      <td>0</td>\n",
              "      <td>0</td>\n",
              "      <td>0</td>\n",
              "      <td>...</td>\n",
              "      <td>0</td>\n",
              "      <td>0</td>\n",
              "      <td>0</td>\n",
              "      <td>0</td>\n",
              "      <td>0</td>\n",
              "      <td>0</td>\n",
              "      <td>0</td>\n",
              "      <td>0</td>\n",
              "      <td>0</td>\n",
              "      <td>0</td>\n",
              "      <td>0</td>\n",
              "      <td>0</td>\n",
              "      <td>0</td>\n",
              "      <td>0</td>\n",
              "      <td>0</td>\n",
              "      <td>0</td>\n",
              "      <td>0</td>\n",
              "      <td>0</td>\n",
              "      <td>0</td>\n",
              "      <td>0</td>\n",
              "      <td>0</td>\n",
              "      <td>0</td>\n",
              "      <td>0</td>\n",
              "      <td>0</td>\n",
              "      <td>0</td>\n",
              "      <td>0</td>\n",
              "      <td>0</td>\n",
              "      <td>0</td>\n",
              "      <td>0</td>\n",
              "      <td>0</td>\n",
              "      <td>0</td>\n",
              "      <td>0</td>\n",
              "      <td>0</td>\n",
              "      <td>0</td>\n",
              "      <td>0</td>\n",
              "      <td>0</td>\n",
              "      <td>0</td>\n",
              "      <td>0</td>\n",
              "      <td>0</td>\n",
              "      <td>0</td>\n",
              "    </tr>\n",
              "    <tr>\n",
              "      <th>4</th>\n",
              "      <td>0</td>\n",
              "      <td>0</td>\n",
              "      <td>0</td>\n",
              "      <td>0</td>\n",
              "      <td>0</td>\n",
              "      <td>0</td>\n",
              "      <td>0</td>\n",
              "      <td>0</td>\n",
              "      <td>0</td>\n",
              "      <td>0</td>\n",
              "      <td>0</td>\n",
              "      <td>0</td>\n",
              "      <td>0</td>\n",
              "      <td>0</td>\n",
              "      <td>0</td>\n",
              "      <td>0</td>\n",
              "      <td>0</td>\n",
              "      <td>0</td>\n",
              "      <td>0</td>\n",
              "      <td>0</td>\n",
              "      <td>0</td>\n",
              "      <td>0</td>\n",
              "      <td>0</td>\n",
              "      <td>0</td>\n",
              "      <td>0</td>\n",
              "      <td>0</td>\n",
              "      <td>0</td>\n",
              "      <td>0</td>\n",
              "      <td>0</td>\n",
              "      <td>0</td>\n",
              "      <td>0</td>\n",
              "      <td>0</td>\n",
              "      <td>0</td>\n",
              "      <td>0</td>\n",
              "      <td>0</td>\n",
              "      <td>0</td>\n",
              "      <td>0</td>\n",
              "      <td>0</td>\n",
              "      <td>0</td>\n",
              "      <td>0</td>\n",
              "      <td>...</td>\n",
              "      <td>0</td>\n",
              "      <td>0</td>\n",
              "      <td>0</td>\n",
              "      <td>0</td>\n",
              "      <td>0</td>\n",
              "      <td>0</td>\n",
              "      <td>0</td>\n",
              "      <td>0</td>\n",
              "      <td>0</td>\n",
              "      <td>0</td>\n",
              "      <td>0</td>\n",
              "      <td>0</td>\n",
              "      <td>0</td>\n",
              "      <td>0</td>\n",
              "      <td>0</td>\n",
              "      <td>0</td>\n",
              "      <td>0</td>\n",
              "      <td>0</td>\n",
              "      <td>0</td>\n",
              "      <td>0</td>\n",
              "      <td>0</td>\n",
              "      <td>0</td>\n",
              "      <td>0</td>\n",
              "      <td>0</td>\n",
              "      <td>0</td>\n",
              "      <td>0</td>\n",
              "      <td>0</td>\n",
              "      <td>0</td>\n",
              "      <td>0</td>\n",
              "      <td>0</td>\n",
              "      <td>0</td>\n",
              "      <td>0</td>\n",
              "      <td>0</td>\n",
              "      <td>0</td>\n",
              "      <td>0</td>\n",
              "      <td>0</td>\n",
              "      <td>0</td>\n",
              "      <td>0</td>\n",
              "      <td>0</td>\n",
              "      <td>0</td>\n",
              "    </tr>\n",
              "    <tr>\n",
              "      <th>...</th>\n",
              "      <td>...</td>\n",
              "      <td>...</td>\n",
              "      <td>...</td>\n",
              "      <td>...</td>\n",
              "      <td>...</td>\n",
              "      <td>...</td>\n",
              "      <td>...</td>\n",
              "      <td>...</td>\n",
              "      <td>...</td>\n",
              "      <td>...</td>\n",
              "      <td>...</td>\n",
              "      <td>...</td>\n",
              "      <td>...</td>\n",
              "      <td>...</td>\n",
              "      <td>...</td>\n",
              "      <td>...</td>\n",
              "      <td>...</td>\n",
              "      <td>...</td>\n",
              "      <td>...</td>\n",
              "      <td>...</td>\n",
              "      <td>...</td>\n",
              "      <td>...</td>\n",
              "      <td>...</td>\n",
              "      <td>...</td>\n",
              "      <td>...</td>\n",
              "      <td>...</td>\n",
              "      <td>...</td>\n",
              "      <td>...</td>\n",
              "      <td>...</td>\n",
              "      <td>...</td>\n",
              "      <td>...</td>\n",
              "      <td>...</td>\n",
              "      <td>...</td>\n",
              "      <td>...</td>\n",
              "      <td>...</td>\n",
              "      <td>...</td>\n",
              "      <td>...</td>\n",
              "      <td>...</td>\n",
              "      <td>...</td>\n",
              "      <td>...</td>\n",
              "      <td>...</td>\n",
              "      <td>...</td>\n",
              "      <td>...</td>\n",
              "      <td>...</td>\n",
              "      <td>...</td>\n",
              "      <td>...</td>\n",
              "      <td>...</td>\n",
              "      <td>...</td>\n",
              "      <td>...</td>\n",
              "      <td>...</td>\n",
              "      <td>...</td>\n",
              "      <td>...</td>\n",
              "      <td>...</td>\n",
              "      <td>...</td>\n",
              "      <td>...</td>\n",
              "      <td>...</td>\n",
              "      <td>...</td>\n",
              "      <td>...</td>\n",
              "      <td>...</td>\n",
              "      <td>...</td>\n",
              "      <td>...</td>\n",
              "      <td>...</td>\n",
              "      <td>...</td>\n",
              "      <td>...</td>\n",
              "      <td>...</td>\n",
              "      <td>...</td>\n",
              "      <td>...</td>\n",
              "      <td>...</td>\n",
              "      <td>...</td>\n",
              "      <td>...</td>\n",
              "      <td>...</td>\n",
              "      <td>...</td>\n",
              "      <td>...</td>\n",
              "      <td>...</td>\n",
              "      <td>...</td>\n",
              "      <td>...</td>\n",
              "      <td>...</td>\n",
              "      <td>...</td>\n",
              "      <td>...</td>\n",
              "      <td>...</td>\n",
              "      <td>...</td>\n",
              "    </tr>\n",
              "    <tr>\n",
              "      <th>41995</th>\n",
              "      <td>0</td>\n",
              "      <td>0</td>\n",
              "      <td>0</td>\n",
              "      <td>0</td>\n",
              "      <td>0</td>\n",
              "      <td>0</td>\n",
              "      <td>0</td>\n",
              "      <td>0</td>\n",
              "      <td>0</td>\n",
              "      <td>0</td>\n",
              "      <td>0</td>\n",
              "      <td>0</td>\n",
              "      <td>0</td>\n",
              "      <td>0</td>\n",
              "      <td>0</td>\n",
              "      <td>0</td>\n",
              "      <td>0</td>\n",
              "      <td>0</td>\n",
              "      <td>0</td>\n",
              "      <td>0</td>\n",
              "      <td>0</td>\n",
              "      <td>0</td>\n",
              "      <td>0</td>\n",
              "      <td>0</td>\n",
              "      <td>0</td>\n",
              "      <td>0</td>\n",
              "      <td>0</td>\n",
              "      <td>0</td>\n",
              "      <td>0</td>\n",
              "      <td>0</td>\n",
              "      <td>0</td>\n",
              "      <td>0</td>\n",
              "      <td>0</td>\n",
              "      <td>0</td>\n",
              "      <td>0</td>\n",
              "      <td>0</td>\n",
              "      <td>0</td>\n",
              "      <td>0</td>\n",
              "      <td>0</td>\n",
              "      <td>0</td>\n",
              "      <td>...</td>\n",
              "      <td>0</td>\n",
              "      <td>0</td>\n",
              "      <td>0</td>\n",
              "      <td>0</td>\n",
              "      <td>0</td>\n",
              "      <td>0</td>\n",
              "      <td>0</td>\n",
              "      <td>0</td>\n",
              "      <td>0</td>\n",
              "      <td>0</td>\n",
              "      <td>0</td>\n",
              "      <td>0</td>\n",
              "      <td>0</td>\n",
              "      <td>0</td>\n",
              "      <td>0</td>\n",
              "      <td>0</td>\n",
              "      <td>0</td>\n",
              "      <td>0</td>\n",
              "      <td>0</td>\n",
              "      <td>0</td>\n",
              "      <td>0</td>\n",
              "      <td>0</td>\n",
              "      <td>0</td>\n",
              "      <td>0</td>\n",
              "      <td>0</td>\n",
              "      <td>0</td>\n",
              "      <td>0</td>\n",
              "      <td>0</td>\n",
              "      <td>0</td>\n",
              "      <td>0</td>\n",
              "      <td>0</td>\n",
              "      <td>0</td>\n",
              "      <td>0</td>\n",
              "      <td>0</td>\n",
              "      <td>0</td>\n",
              "      <td>0</td>\n",
              "      <td>0</td>\n",
              "      <td>0</td>\n",
              "      <td>0</td>\n",
              "      <td>0</td>\n",
              "    </tr>\n",
              "    <tr>\n",
              "      <th>41996</th>\n",
              "      <td>1</td>\n",
              "      <td>0</td>\n",
              "      <td>0</td>\n",
              "      <td>0</td>\n",
              "      <td>0</td>\n",
              "      <td>0</td>\n",
              "      <td>0</td>\n",
              "      <td>0</td>\n",
              "      <td>0</td>\n",
              "      <td>0</td>\n",
              "      <td>0</td>\n",
              "      <td>0</td>\n",
              "      <td>0</td>\n",
              "      <td>0</td>\n",
              "      <td>0</td>\n",
              "      <td>0</td>\n",
              "      <td>0</td>\n",
              "      <td>0</td>\n",
              "      <td>0</td>\n",
              "      <td>0</td>\n",
              "      <td>0</td>\n",
              "      <td>0</td>\n",
              "      <td>0</td>\n",
              "      <td>0</td>\n",
              "      <td>0</td>\n",
              "      <td>0</td>\n",
              "      <td>0</td>\n",
              "      <td>0</td>\n",
              "      <td>0</td>\n",
              "      <td>0</td>\n",
              "      <td>0</td>\n",
              "      <td>0</td>\n",
              "      <td>0</td>\n",
              "      <td>0</td>\n",
              "      <td>0</td>\n",
              "      <td>0</td>\n",
              "      <td>0</td>\n",
              "      <td>0</td>\n",
              "      <td>0</td>\n",
              "      <td>0</td>\n",
              "      <td>...</td>\n",
              "      <td>0</td>\n",
              "      <td>0</td>\n",
              "      <td>0</td>\n",
              "      <td>0</td>\n",
              "      <td>0</td>\n",
              "      <td>0</td>\n",
              "      <td>0</td>\n",
              "      <td>0</td>\n",
              "      <td>0</td>\n",
              "      <td>0</td>\n",
              "      <td>0</td>\n",
              "      <td>0</td>\n",
              "      <td>0</td>\n",
              "      <td>0</td>\n",
              "      <td>0</td>\n",
              "      <td>0</td>\n",
              "      <td>0</td>\n",
              "      <td>0</td>\n",
              "      <td>0</td>\n",
              "      <td>0</td>\n",
              "      <td>0</td>\n",
              "      <td>0</td>\n",
              "      <td>0</td>\n",
              "      <td>0</td>\n",
              "      <td>0</td>\n",
              "      <td>0</td>\n",
              "      <td>0</td>\n",
              "      <td>0</td>\n",
              "      <td>0</td>\n",
              "      <td>0</td>\n",
              "      <td>0</td>\n",
              "      <td>0</td>\n",
              "      <td>0</td>\n",
              "      <td>0</td>\n",
              "      <td>0</td>\n",
              "      <td>0</td>\n",
              "      <td>0</td>\n",
              "      <td>0</td>\n",
              "      <td>0</td>\n",
              "      <td>0</td>\n",
              "    </tr>\n",
              "    <tr>\n",
              "      <th>41997</th>\n",
              "      <td>7</td>\n",
              "      <td>0</td>\n",
              "      <td>0</td>\n",
              "      <td>0</td>\n",
              "      <td>0</td>\n",
              "      <td>0</td>\n",
              "      <td>0</td>\n",
              "      <td>0</td>\n",
              "      <td>0</td>\n",
              "      <td>0</td>\n",
              "      <td>0</td>\n",
              "      <td>0</td>\n",
              "      <td>0</td>\n",
              "      <td>0</td>\n",
              "      <td>0</td>\n",
              "      <td>0</td>\n",
              "      <td>0</td>\n",
              "      <td>0</td>\n",
              "      <td>0</td>\n",
              "      <td>0</td>\n",
              "      <td>0</td>\n",
              "      <td>0</td>\n",
              "      <td>0</td>\n",
              "      <td>0</td>\n",
              "      <td>0</td>\n",
              "      <td>0</td>\n",
              "      <td>0</td>\n",
              "      <td>0</td>\n",
              "      <td>0</td>\n",
              "      <td>0</td>\n",
              "      <td>0</td>\n",
              "      <td>0</td>\n",
              "      <td>0</td>\n",
              "      <td>0</td>\n",
              "      <td>0</td>\n",
              "      <td>0</td>\n",
              "      <td>0</td>\n",
              "      <td>0</td>\n",
              "      <td>0</td>\n",
              "      <td>0</td>\n",
              "      <td>...</td>\n",
              "      <td>0</td>\n",
              "      <td>0</td>\n",
              "      <td>0</td>\n",
              "      <td>0</td>\n",
              "      <td>0</td>\n",
              "      <td>0</td>\n",
              "      <td>0</td>\n",
              "      <td>0</td>\n",
              "      <td>0</td>\n",
              "      <td>0</td>\n",
              "      <td>0</td>\n",
              "      <td>0</td>\n",
              "      <td>0</td>\n",
              "      <td>0</td>\n",
              "      <td>0</td>\n",
              "      <td>0</td>\n",
              "      <td>0</td>\n",
              "      <td>0</td>\n",
              "      <td>0</td>\n",
              "      <td>0</td>\n",
              "      <td>0</td>\n",
              "      <td>0</td>\n",
              "      <td>0</td>\n",
              "      <td>0</td>\n",
              "      <td>0</td>\n",
              "      <td>0</td>\n",
              "      <td>0</td>\n",
              "      <td>0</td>\n",
              "      <td>0</td>\n",
              "      <td>0</td>\n",
              "      <td>0</td>\n",
              "      <td>0</td>\n",
              "      <td>0</td>\n",
              "      <td>0</td>\n",
              "      <td>0</td>\n",
              "      <td>0</td>\n",
              "      <td>0</td>\n",
              "      <td>0</td>\n",
              "      <td>0</td>\n",
              "      <td>0</td>\n",
              "    </tr>\n",
              "    <tr>\n",
              "      <th>41998</th>\n",
              "      <td>6</td>\n",
              "      <td>0</td>\n",
              "      <td>0</td>\n",
              "      <td>0</td>\n",
              "      <td>0</td>\n",
              "      <td>0</td>\n",
              "      <td>0</td>\n",
              "      <td>0</td>\n",
              "      <td>0</td>\n",
              "      <td>0</td>\n",
              "      <td>0</td>\n",
              "      <td>0</td>\n",
              "      <td>0</td>\n",
              "      <td>0</td>\n",
              "      <td>0</td>\n",
              "      <td>0</td>\n",
              "      <td>0</td>\n",
              "      <td>0</td>\n",
              "      <td>0</td>\n",
              "      <td>0</td>\n",
              "      <td>0</td>\n",
              "      <td>0</td>\n",
              "      <td>0</td>\n",
              "      <td>0</td>\n",
              "      <td>0</td>\n",
              "      <td>0</td>\n",
              "      <td>0</td>\n",
              "      <td>0</td>\n",
              "      <td>0</td>\n",
              "      <td>0</td>\n",
              "      <td>0</td>\n",
              "      <td>0</td>\n",
              "      <td>0</td>\n",
              "      <td>0</td>\n",
              "      <td>0</td>\n",
              "      <td>0</td>\n",
              "      <td>0</td>\n",
              "      <td>0</td>\n",
              "      <td>0</td>\n",
              "      <td>0</td>\n",
              "      <td>...</td>\n",
              "      <td>0</td>\n",
              "      <td>0</td>\n",
              "      <td>0</td>\n",
              "      <td>0</td>\n",
              "      <td>0</td>\n",
              "      <td>0</td>\n",
              "      <td>0</td>\n",
              "      <td>0</td>\n",
              "      <td>0</td>\n",
              "      <td>0</td>\n",
              "      <td>0</td>\n",
              "      <td>0</td>\n",
              "      <td>0</td>\n",
              "      <td>0</td>\n",
              "      <td>0</td>\n",
              "      <td>0</td>\n",
              "      <td>0</td>\n",
              "      <td>0</td>\n",
              "      <td>0</td>\n",
              "      <td>0</td>\n",
              "      <td>0</td>\n",
              "      <td>0</td>\n",
              "      <td>0</td>\n",
              "      <td>0</td>\n",
              "      <td>0</td>\n",
              "      <td>0</td>\n",
              "      <td>0</td>\n",
              "      <td>0</td>\n",
              "      <td>0</td>\n",
              "      <td>0</td>\n",
              "      <td>0</td>\n",
              "      <td>0</td>\n",
              "      <td>0</td>\n",
              "      <td>0</td>\n",
              "      <td>0</td>\n",
              "      <td>0</td>\n",
              "      <td>0</td>\n",
              "      <td>0</td>\n",
              "      <td>0</td>\n",
              "      <td>0</td>\n",
              "    </tr>\n",
              "    <tr>\n",
              "      <th>41999</th>\n",
              "      <td>9</td>\n",
              "      <td>0</td>\n",
              "      <td>0</td>\n",
              "      <td>0</td>\n",
              "      <td>0</td>\n",
              "      <td>0</td>\n",
              "      <td>0</td>\n",
              "      <td>0</td>\n",
              "      <td>0</td>\n",
              "      <td>0</td>\n",
              "      <td>0</td>\n",
              "      <td>0</td>\n",
              "      <td>0</td>\n",
              "      <td>0</td>\n",
              "      <td>0</td>\n",
              "      <td>0</td>\n",
              "      <td>0</td>\n",
              "      <td>0</td>\n",
              "      <td>0</td>\n",
              "      <td>0</td>\n",
              "      <td>0</td>\n",
              "      <td>0</td>\n",
              "      <td>0</td>\n",
              "      <td>0</td>\n",
              "      <td>0</td>\n",
              "      <td>0</td>\n",
              "      <td>0</td>\n",
              "      <td>0</td>\n",
              "      <td>0</td>\n",
              "      <td>0</td>\n",
              "      <td>0</td>\n",
              "      <td>0</td>\n",
              "      <td>0</td>\n",
              "      <td>0</td>\n",
              "      <td>0</td>\n",
              "      <td>0</td>\n",
              "      <td>0</td>\n",
              "      <td>0</td>\n",
              "      <td>0</td>\n",
              "      <td>0</td>\n",
              "      <td>...</td>\n",
              "      <td>0</td>\n",
              "      <td>0</td>\n",
              "      <td>0</td>\n",
              "      <td>0</td>\n",
              "      <td>0</td>\n",
              "      <td>0</td>\n",
              "      <td>0</td>\n",
              "      <td>0</td>\n",
              "      <td>0</td>\n",
              "      <td>0</td>\n",
              "      <td>0</td>\n",
              "      <td>0</td>\n",
              "      <td>0</td>\n",
              "      <td>0</td>\n",
              "      <td>0</td>\n",
              "      <td>0</td>\n",
              "      <td>0</td>\n",
              "      <td>0</td>\n",
              "      <td>0</td>\n",
              "      <td>0</td>\n",
              "      <td>0</td>\n",
              "      <td>0</td>\n",
              "      <td>0</td>\n",
              "      <td>0</td>\n",
              "      <td>0</td>\n",
              "      <td>0</td>\n",
              "      <td>0</td>\n",
              "      <td>0</td>\n",
              "      <td>0</td>\n",
              "      <td>0</td>\n",
              "      <td>0</td>\n",
              "      <td>0</td>\n",
              "      <td>0</td>\n",
              "      <td>0</td>\n",
              "      <td>0</td>\n",
              "      <td>0</td>\n",
              "      <td>0</td>\n",
              "      <td>0</td>\n",
              "      <td>0</td>\n",
              "      <td>0</td>\n",
              "    </tr>\n",
              "  </tbody>\n",
              "</table>\n",
              "<p>42000 rows × 785 columns</p>\n",
              "</div>"
            ],
            "text/plain": [
              "       label  pixel0  pixel1  pixel2  ...  pixel780  pixel781  pixel782  pixel783\n",
              "0          1       0       0       0  ...         0         0         0         0\n",
              "1          0       0       0       0  ...         0         0         0         0\n",
              "2          1       0       0       0  ...         0         0         0         0\n",
              "3          4       0       0       0  ...         0         0         0         0\n",
              "4          0       0       0       0  ...         0         0         0         0\n",
              "...      ...     ...     ...     ...  ...       ...       ...       ...       ...\n",
              "41995      0       0       0       0  ...         0         0         0         0\n",
              "41996      1       0       0       0  ...         0         0         0         0\n",
              "41997      7       0       0       0  ...         0         0         0         0\n",
              "41998      6       0       0       0  ...         0         0         0         0\n",
              "41999      9       0       0       0  ...         0         0         0         0\n",
              "\n",
              "[42000 rows x 785 columns]"
            ]
          },
          "metadata": {
            "tags": []
          },
          "execution_count": 4
        }
      ]
    },
    {
      "cell_type": "markdown",
      "metadata": {
        "id": "mkhGzdE3gqIY"
      },
      "source": [
        "## Dataframe\n",
        "**A dataframe is like a dictionary of lists, but with much more functionality**\n",
        "\n",
        "*   A table of data (Rows and Columns)\n",
        "*   2 Dimensional Data Structure\n"
      ]
    },
    {
      "cell_type": "code",
      "metadata": {
        "id": "3kf4kNkYWWII",
        "colab": {
          "base_uri": "https://localhost:8080/"
        },
        "outputId": "aec961bc-3f7f-4cd4-ea99-824803117ea4"
      },
      "source": [
        "type(train_df)"
      ],
      "execution_count": null,
      "outputs": [
        {
          "output_type": "execute_result",
          "data": {
            "text/plain": [
              "pandas.core.frame.DataFrame"
            ]
          },
          "metadata": {
            "tags": []
          },
          "execution_count": 5
        }
      ]
    },
    {
      "cell_type": "markdown",
      "metadata": {
        "id": "Wu3gl7-XXRJQ"
      },
      "source": [
        "**Creating a dataframe**"
      ]
    },
    {
      "cell_type": "code",
      "metadata": {
        "id": "vNHPA-HZXTsF"
      },
      "source": [
        "people = {\n",
        "    \"name\": ['Alfred', 'Jim', 'Mary', 'Jenny'],\n",
        "    \"age\": [5, 6, 6, 7]\n",
        "}\n",
        "\n",
        "df = pd.DataFrame(people)\n",
        "df"
      ],
      "execution_count": null,
      "outputs": []
    },
    {
      "cell_type": "markdown",
      "metadata": {
        "id": "uZ6vFCtPhNl2"
      },
      "source": [
        "## Properties of a Dataframe"
      ]
    },
    {
      "cell_type": "markdown",
      "metadata": {
        "id": "_g8YGz_KFltM"
      },
      "source": [
        "**Shape of a dataframe**\n",
        "\n"
      ]
    },
    {
      "cell_type": "code",
      "metadata": {
        "id": "iT8feHpQCfrf"
      },
      "source": [
        "train_df.shape"
      ],
      "execution_count": null,
      "outputs": []
    },
    {
      "cell_type": "markdown",
      "metadata": {
        "id": "h4VleS98Hdvx"
      },
      "source": [
        "**`df.dtypes` returns the datatypes of each column in a DataFrame**\n"
      ]
    },
    {
      "cell_type": "code",
      "metadata": {
        "id": "D8O_9fvPCjJd"
      },
      "source": [
        "train_df.dtypes"
      ],
      "execution_count": null,
      "outputs": []
    },
    {
      "cell_type": "markdown",
      "metadata": {
        "id": "IJ8tWQ3g-jaI"
      },
      "source": [
        "**`df.columns` returns the column labels of a DataFrame**\n"
      ]
    },
    {
      "cell_type": "code",
      "metadata": {
        "id": "r8Bu0VBhvBut"
      },
      "source": [
        "train_df.columns"
      ],
      "execution_count": null,
      "outputs": []
    },
    {
      "cell_type": "markdown",
      "metadata": {
        "id": "kyf8rAZqLKGm"
      },
      "source": [
        "**`df.value_counts`** returns a Series containing counts of unique values.\n",
        "* Can use to check whether the dataset is **balanced or imbalanced**"
      ]
    },
    {
      "cell_type": "code",
      "metadata": {
        "id": "jpo0S6GqoZ4t"
      },
      "source": [
        "train_df[\"label\"].value_counts()"
      ],
      "execution_count": null,
      "outputs": []
    },
    {
      "cell_type": "markdown",
      "metadata": {
        "id": "eaP0YBxBpwcx"
      },
      "source": [
        "### df.head\n",
        "* `df.head(n=10)`\n",
        "  *   Returns the first `n` rows.\n",
        "  * For negative values of `n`, this function returns all the rows except for the last `n` rows.\n"
      ]
    },
    {
      "cell_type": "code",
      "metadata": {
        "id": "zAyCyg2hutli"
      },
      "source": [
        "train_df.head(n = 10)"
      ],
      "execution_count": null,
      "outputs": []
    },
    {
      "cell_type": "markdown",
      "metadata": {
        "id": "ARc5eR3Rp-PW"
      },
      "source": [
        "### df.tail\n",
        "* `df.tail(n=10)`\n",
        "  *   Returns the last `n` rows.\n",
        "  * For negative values of `n`, this function returns all rows except for the first `n` rows."
      ]
    },
    {
      "cell_type": "code",
      "metadata": {
        "id": "FWuAMUNRoFUz"
      },
      "source": [
        "train_df.tail(10)"
      ],
      "execution_count": null,
      "outputs": []
    },
    {
      "cell_type": "markdown",
      "metadata": {
        "id": "OyWxEKXzqhQa"
      },
      "source": [
        "### df.info\n",
        "* `df.info()`\n",
        "  * Print a concise summary of a DataFrame including the dtypes of the columns, memory usage, etc."
      ]
    },
    {
      "cell_type": "code",
      "metadata": {
        "id": "2D9Id5y2u18O"
      },
      "source": [
        "train_df.info()"
      ],
      "execution_count": null,
      "outputs": []
    },
    {
      "cell_type": "markdown",
      "metadata": {
        "id": "zWJhxkOuqYki"
      },
      "source": [
        "### df.describe\n",
        "* `df.describe()`\n",
        "  * Generates descriptive statistics."
      ]
    },
    {
      "cell_type": "code",
      "metadata": {
        "id": "sf70LjMsu4vL"
      },
      "source": [
        "train_df.describe()"
      ],
      "execution_count": null,
      "outputs": []
    },
    {
      "cell_type": "markdown",
      "metadata": {
        "id": "4H4mO18fgt20"
      },
      "source": [
        "## Series\n",
        "**A Series is like a list of data, but with much more functionality**\n"
      ]
    },
    {
      "cell_type": "markdown",
      "metadata": {
        "id": "SilqWR5t_-il"
      },
      "source": [
        "Creating Series from a List of Data"
      ]
    },
    {
      "cell_type": "code",
      "metadata": {
        "id": "UV7fClgEkZIN"
      },
      "source": [
        "pd.Series([1, 2, 3, 4, \"asdf\"])"
      ],
      "execution_count": null,
      "outputs": []
    },
    {
      "cell_type": "code",
      "metadata": {
        "id": "MaAAJfUzkmB9"
      },
      "source": [
        "type(train_df['label'])"
      ],
      "execution_count": null,
      "outputs": []
    },
    {
      "cell_type": "markdown",
      "metadata": {
        "id": "Qpjlw0BVgw_d"
      },
      "source": [
        "## Accessing Data"
      ]
    },
    {
      "cell_type": "markdown",
      "metadata": {
        "id": "pxKV40oWJCn1"
      },
      "source": [
        "### df.loc\n",
        "\n",
        "**Accessing by label / name**\n",
        "\n",
        "* Access a group of rows and columns by label(s) or a boolean array\n",
        "* Allowed inputs are:\n",
        "    * single label\n",
        "    * list or array of labels\n",
        "    * slice object with labels (**both start and stop indices are included**)\n",
        "    * boolean array of the same length as the axis being sliced"
      ]
    },
    {
      "cell_type": "code",
      "metadata": {
        "id": "lj6dYCKareeR"
      },
      "source": [
        "train_df.loc[355]['label']"
      ],
      "execution_count": null,
      "outputs": []
    },
    {
      "cell_type": "code",
      "metadata": {
        "id": "TrHX8OMptF3u"
      },
      "source": [
        "train_df.loc[355:360,['label', 'pixel245']]"
      ],
      "execution_count": null,
      "outputs": []
    },
    {
      "cell_type": "markdown",
      "metadata": {
        "id": "KKtREbOxD3cs"
      },
      "source": [
        "### df.iloc\n",
        "\n",
        "**Accessing by position numbers**\n",
        "\n",
        "* `df.iloc()`\n",
        "\n",
        "  * Purely integer-location based indexing for selection by position.\n",
        "  * Unlike in `loc`, if a slice object with indices is passed, then **stop index is excluded**"
      ]
    },
    {
      "cell_type": "code",
      "metadata": {
        "id": "IRjiWaThs7-W"
      },
      "source": [
        "train_df.iloc[355, 0]"
      ],
      "execution_count": null,
      "outputs": []
    },
    {
      "cell_type": "code",
      "metadata": {
        "id": "d4xgENHosJXP"
      },
      "source": [
        "train_df.iloc[355:360,[0, 246]]"
      ],
      "execution_count": null,
      "outputs": []
    },
    {
      "cell_type": "markdown",
      "metadata": {
        "id": "XPXjuJwCAX02"
      },
      "source": [
        "### df.at\n",
        "* `df.at()`\n",
        "  * Access a single value for a row/column label pair.\n",
        "  * Can also set/update a value at a specified row/column pair\n",
        "  * Use `at` only if you need to get or set a single value in a DataFrame or Series.\n"
      ]
    },
    {
      "cell_type": "code",
      "metadata": {
        "id": "oc201UkOqsm3"
      },
      "source": [
        "train_df.at[355, 'label']"
      ],
      "execution_count": null,
      "outputs": []
    },
    {
      "cell_type": "markdown",
      "metadata": {
        "id": "nq9aEiuMqEzP"
      },
      "source": [
        "# Data Preprocessing"
      ]
    },
    {
      "cell_type": "markdown",
      "metadata": {
        "id": "lVzvUbr7wBZ4"
      },
      "source": [
        "## Handling missing values"
      ]
    },
    {
      "cell_type": "markdown",
      "metadata": {
        "id": "f-Z60KlF2hAi"
      },
      "source": [
        "### pd.DataFrame.isna\n",
        "* `pd.DataFrame.isna()`\n",
        "  * Return a boolean same-sized object indicating if the values are NA.\n",
        "  * `None` is considered as NA value."
      ]
    },
    {
      "cell_type": "code",
      "metadata": {
        "id": "ttz_HiXcrOOS"
      },
      "source": [
        "people = {\n",
        "    \"name\": ['Alfred', 'Jim', 'Jenny'],\n",
        "    \"age\": [5, 6, None]\n",
        "}\n",
        "\n",
        "df = pd.DataFrame(people)\n",
        "df"
      ],
      "execution_count": null,
      "outputs": []
    },
    {
      "cell_type": "code",
      "metadata": {
        "id": "LUWjXIDfsujG"
      },
      "source": [
        "df.isna()"
      ],
      "execution_count": null,
      "outputs": []
    },
    {
      "cell_type": "code",
      "metadata": {
        "id": "ELa8-zrqwE9K"
      },
      "source": [
        "train_df.isna()"
      ],
      "execution_count": null,
      "outputs": []
    },
    {
      "cell_type": "markdown",
      "metadata": {
        "id": "4GY9S7AjEX3X"
      },
      "source": [
        "**To find the number of `None` objects**"
      ]
    },
    {
      "cell_type": "code",
      "metadata": {
        "id": "xyBMAXW2sBIg"
      },
      "source": [
        "df.isna().sum()"
      ],
      "execution_count": null,
      "outputs": []
    },
    {
      "cell_type": "code",
      "metadata": {
        "id": "svtzxINGxEew"
      },
      "source": [
        "train_df.isna().sum()"
      ],
      "execution_count": null,
      "outputs": []
    },
    {
      "cell_type": "markdown",
      "metadata": {
        "id": "4Er7tVwDWjpp"
      },
      "source": [
        "### pd.DataFrame.dropna\n",
        "\n",
        "* `pd.DataFrame.dropna()`\n",
        "  * Removes missing values\n",
        "  * Returns a DataFrame with the NA entries dropped from it."
      ]
    },
    {
      "cell_type": "code",
      "metadata": {
        "id": "MlyNlzg0tK24"
      },
      "source": [
        "df"
      ],
      "execution_count": null,
      "outputs": []
    },
    {
      "cell_type": "code",
      "metadata": {
        "id": "9n1NueNHtBbQ"
      },
      "source": [
        "df.dropna(inplace=True)\n",
        "df"
      ],
      "execution_count": null,
      "outputs": []
    },
    {
      "cell_type": "code",
      "metadata": {
        "id": "brAKUb2W0Atn"
      },
      "source": [
        "train_df.dropna(inplace=True)\n",
        "train_df.shape"
      ],
      "execution_count": null,
      "outputs": []
    },
    {
      "cell_type": "markdown",
      "metadata": {
        "id": "TeitZGBkQyyp"
      },
      "source": [
        "## Handling duplicates"
      ]
    },
    {
      "cell_type": "markdown",
      "metadata": {
        "id": "rl3JnAdMPC8k"
      },
      "source": [
        "### pd.DataFrame.duplicated\n",
        "* `pd.DataFrame.duplicated()`\n",
        "  * It returns a boolean series for each of the duplicated rows.\n",
        "   "
      ]
    },
    {
      "cell_type": "code",
      "metadata": {
        "id": "LoPVoEpdtc9w"
      },
      "source": [
        "people = {\n",
        "    \"name\": ['Alfred', 'Jim', 'Jim', 'Jenny'],\n",
        "    \"age\": [5, 6, 6, 6]\n",
        "}\n",
        "\n",
        "df = pd.DataFrame(people)\n",
        "df"
      ],
      "execution_count": null,
      "outputs": []
    },
    {
      "cell_type": "code",
      "metadata": {
        "id": "Fx0Fq9kEt-YJ"
      },
      "source": [
        "df.duplicated()"
      ],
      "execution_count": null,
      "outputs": []
    },
    {
      "cell_type": "code",
      "metadata": {
        "id": "R4FthimIt6XU"
      },
      "source": [
        "df[df.duplicated()]"
      ],
      "execution_count": null,
      "outputs": []
    },
    {
      "cell_type": "code",
      "metadata": {
        "id": "iR-e90KGxHiP"
      },
      "source": [
        "train_df[train_df.duplicated()]"
      ],
      "execution_count": null,
      "outputs": []
    },
    {
      "cell_type": "markdown",
      "metadata": {
        "id": "-tx-21kQTyM_"
      },
      "source": [
        "### pd.DataFrame.drop_duplicates\n",
        "* `pd.drop_duplicates()`\n",
        "  * It returns a dataframe with the duplicated rows removed.\n",
        "  "
      ]
    },
    {
      "cell_type": "code",
      "metadata": {
        "id": "EFog4jTZuha4"
      },
      "source": [
        "df"
      ],
      "execution_count": null,
      "outputs": []
    },
    {
      "cell_type": "code",
      "metadata": {
        "id": "km46bbZKuIRf"
      },
      "source": [
        "df.drop_duplicates(inplace=True)\n",
        "df"
      ],
      "execution_count": null,
      "outputs": []
    },
    {
      "cell_type": "code",
      "metadata": {
        "id": "rIV6Oq53C_M0"
      },
      "source": [
        "train_df.drop_duplicates(inplace=True)"
      ],
      "execution_count": null,
      "outputs": []
    },
    {
      "cell_type": "markdown",
      "metadata": {
        "id": "JifkCP0NyJgG"
      },
      "source": [
        "# MNIST Data"
      ]
    },
    {
      "cell_type": "markdown",
      "metadata": {
        "id": "NPbZj_7SEwId"
      },
      "source": [
        "### `Data` as Inputs and Outputs\n",
        "\n",
        "* Inputs are represented as a Design Matrix $X$.\n",
        "* Output vector is represented as $Y$.  \n",
        "\n",
        "Outputs are also called as target labels. In case of MNIST dataset, the labels are {0, 1, 2, 3, 4, 5, 6, 7, 8, 9}"
      ]
    },
    {
      "cell_type": "markdown",
      "metadata": {
        "id": "PMZu_4pa9_Lq"
      },
      "source": [
        "![Dataset.PNG](data:image/png;base64,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)"
      ]
    },
    {
      "cell_type": "markdown",
      "metadata": {
        "id": "h7RKjsivHOyx"
      },
      "source": [
        "#### pd.DataFrame.drop\n",
        "* `pd.DataFrame.drop(labels=None, axis=0, index=None, columns=None, inplace=False)`\n",
        "  * `labels` is the index or column labels to drop.\n",
        "  *  `axis` specifies the axis to drop the labels from.\n",
        "  * `index` is an alternative to specifying the axis (labels, axis=0 is equivalent to index=labels)\n",
        "  * `columns` is an alternative to specifying the axis (labels, axis=1 is equivalent to columns=labels).\n",
        "  * `inplace`: If False, returns a copy. Otherwise, do operation inplace and return `None` (default `False`)\n"
      ]
    },
    {
      "cell_type": "code",
      "metadata": {
        "id": "J7yYN20gLXG6"
      },
      "source": [
        "train_df.drop(columns=['label'])"
      ],
      "execution_count": null,
      "outputs": []
    },
    {
      "cell_type": "code",
      "metadata": {
        "id": "pJM6PcSfoghH"
      },
      "source": [
        "train_df"
      ],
      "execution_count": null,
      "outputs": []
    },
    {
      "cell_type": "markdown",
      "metadata": {
        "id": "F61ORiOspcjd"
      },
      "source": [
        "#### pd.DataFrame.pop\n",
        "Returns a column and drops it from dataframe"
      ]
    },
    {
      "cell_type": "code",
      "metadata": {
        "id": "dfe5Q190oD7d"
      },
      "source": [
        "label_target = train_df.pop('label')\n",
        "label_target"
      ],
      "execution_count": null,
      "outputs": []
    },
    {
      "cell_type": "code",
      "metadata": {
        "id": "a0J5JCDmpReR"
      },
      "source": [
        "train_df"
      ],
      "execution_count": null,
      "outputs": []
    },
    {
      "cell_type": "markdown",
      "metadata": {
        "id": "sBgWnIR3CbpS"
      },
      "source": [
        "## Test Inputs"
      ]
    },
    {
      "cell_type": "code",
      "metadata": {
        "id": "jGaaWwPwoxGc"
      },
      "source": [
        "test_df"
      ],
      "execution_count": null,
      "outputs": []
    },
    {
      "cell_type": "markdown",
      "metadata": {
        "id": "UK44WHnuFAFs"
      },
      "source": [
        "## Visualizing the image from an input vector"
      ]
    },
    {
      "cell_type": "code",
      "metadata": {
        "id": "bMa6ZhWkN0eP"
      },
      "source": [
        "import numpy as np\n",
        "import matplotlib.pyplot as plt\n",
        "\n",
        "def visualise(image_df):\n",
        "    image_1D = image_df.to_numpy()\n",
        "    image_2D = image_1D.reshape((28,28))\n",
        "    plt.imshow(image_2D, cmap=plt.get_cmap('gray'))\n",
        "    plt.show()"
      ],
      "execution_count": null,
      "outputs": []
    },
    {
      "cell_type": "code",
      "metadata": {
        "id": "Bper203C8Ul6"
      },
      "source": [
        "print(label_target[892])\n",
        "visualise(train_df.loc[892])"
      ],
      "execution_count": null,
      "outputs": []
    }
  ]
}